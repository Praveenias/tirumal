{
 "cells": [
  {
   "cell_type": "code",
   "execution_count": 2,
   "metadata": {},
   "outputs": [
    {
     "name": "stdout",
     "output_type": "stream",
     "text": [
      "10 tirumal 0.8\n"
     ]
    }
   ],
   "source": [
    "a=10\n",
    "b= 'tirumal'\n",
    "c= 0.8\n",
    "print(a,b,c)"
   ]
  },
  {
   "cell_type": "code",
   "execution_count": 3,
   "metadata": {},
   "outputs": [
    {
     "data": {
      "text/plain": [
       "'if condition:\\n    statement\\nelif condition:\\n    statement\\nelse:'"
      ]
     },
     "execution_count": 3,
     "metadata": {},
     "output_type": "execute_result"
    }
   ],
   "source": [
    "'''if condition:\n",
    "    statement\n",
    "elif condition:\n",
    "    statement\n",
    "else:'''\n",
    "    "
   ]
  },
  {
   "cell_type": "code",
   "execution_count": 5,
   "metadata": {},
   "outputs": [
    {
     "name": "stdout",
     "output_type": "stream",
     "text": [
      "[1, 2, 3, 4, 65, 6, 'dfr']\n"
     ]
    }
   ],
   "source": [
    "#list\n",
    "list1= [1,2,3,4,65,6,'dfr']\n",
    "print(list1)"
   ]
  },
  {
   "cell_type": "code",
   "execution_count": 8,
   "metadata": {},
   "outputs": [
    {
     "name": "stdout",
     "output_type": "stream",
     "text": [
      "1\n",
      "2\n",
      "3\n",
      "4\n",
      "65\n",
      "6\n",
      "dfr\n"
     ]
    }
   ],
   "source": [
    "for i in list1:\n",
    "    print(i)\n",
    "    "
   ]
  },
  {
   "cell_type": "code",
   "execution_count": 12,
   "metadata": {},
   "outputs": [
    {
     "name": "stdout",
     "output_type": "stream",
     "text": [
      "0 1\n",
      "1 2\n",
      "2 3\n",
      "3 4\n",
      "4 65\n",
      "5 6\n",
      "6 dfr\n"
     ]
    }
   ],
   "source": [
    "for i in range(len(list1)):\n",
    "    print(i,list1[i])\n"
   ]
  },
  {
   "cell_type": "code",
   "execution_count": 13,
   "metadata": {},
   "outputs": [],
   "source": [
    "#range(0,5) [0,1,2,3,4]\n",
    "#range(0,10,2) [0,2,4,6,8]\n",
    "#range(10,0,-2) [10,8,6,4,2]\n",
    "#range(5) [0,1,2,3,4]\n",
    "#range(4,10) [4,5,6,7,8,9]"
   ]
  },
  {
   "cell_type": "code",
   "execution_count": 14,
   "metadata": {},
   "outputs": [
    {
     "data": {
      "text/plain": [
       "'while condition:\\n    statement'"
      ]
     },
     "execution_count": 14,
     "metadata": {},
     "output_type": "execute_result"
    }
   ],
   "source": [
    "'''while condition:\n",
    "    statement'''"
   ]
  },
  {
   "cell_type": "code",
   "execution_count": 20,
   "metadata": {},
   "outputs": [
    {
     "name": "stdout",
     "output_type": "stream",
     "text": [
      "15\n",
      "16\n",
      "in 15-20\n",
      "in for else\n"
     ]
    }
   ],
   "source": [
    "for i in range(15,17):\n",
    "    print(i)\n",
    "    if i>15:\n",
    "        print(\"in 15-20\")\n",
    "    if(i>20):\n",
    "        print(\"in 20\")\n",
    "else:\n",
    "    print(\"in for else\")\n",
    "    "
   ]
  },
  {
   "cell_type": "code",
   "execution_count": 26,
   "metadata": {},
   "outputs": [
    {
     "name": "stdout",
     "output_type": "stream",
     "text": [
      "10\n",
      "10 <class 'str'>\n",
      "10\n",
      "10 <class 'int'>\n"
     ]
    }
   ],
   "source": [
    "a=input()\n",
    "print(a,type(a))#str type\n",
    "b=int(input()) #int_type\n",
    "print(b,type(b))"
   ]
  },
  {
   "cell_type": "code",
   "execution_count": 27,
   "metadata": {},
   "outputs": [
    {
     "name": "stdout",
     "output_type": "stream",
     "text": [
      "10\n",
      "tirumal 10\n"
     ]
    }
   ],
   "source": [
    "print(a)\n",
    "print('tirumal',a)"
   ]
  },
  {
   "cell_type": "code",
   "execution_count": 30,
   "metadata": {},
   "outputs": [
    {
     "name": "stdout",
     "output_type": "stream",
     "text": [
      "(1, 2, 3)\n",
      "[1, 2, 3]\n"
     ]
    }
   ],
   "source": [
    "a = (1,2,3)\n",
    "print(a)\n",
    "b= list(a)\n",
    "print(b)"
   ]
  },
  {
   "cell_type": "code",
   "execution_count": 34,
   "metadata": {},
   "outputs": [
    {
     "data": {
      "text/plain": [
       "[1, 2, 3]"
      ]
     },
     "execution_count": 34,
     "metadata": {},
     "output_type": "execute_result"
    }
   ],
   "source": [
    "#slicing [extract sublist from the main list]\n",
    "l=[1,2,3,4,5,6]\n",
    "l[0:3] #[1,2,3]\n",
    "l[:]#[1,2,3,4,5,6]\n",
    "l[3:5] #[4,5]\n",
    "l[:-1]#[6]\n",
    "l[:-3]#[6,5]\n",
    "l[0,5,2]#[0,2,4]"
   ]
  },
  {
   "cell_type": "code",
   "execution_count": 37,
   "metadata": {},
   "outputs": [
    {
     "data": {
      "text/plain": [
       "[2, 3, 6]"
      ]
     },
     "execution_count": 37,
     "metadata": {},
     "output_type": "execute_result"
    }
   ],
   "source": [
    "#map(function,iterator[list])\n",
    "l2=[2.0,3.0,6.0]\n",
    "v= list(map(int,l2))\n",
    "v"
   ]
  },
  {
   "cell_type": "code",
   "execution_count": 44,
   "metadata": {},
   "outputs": [
    {
     "data": {
      "text/plain": [
       "['kjh', ' kju ', 'oiu']"
      ]
     },
     "execution_count": 44,
     "metadata": {},
     "output_type": "execute_result"
    }
   ],
   "source": [
    "#split() (;)\n",
    "f = 'kjh; kju ;oiu'\n",
    "f.split(\";\")"
   ]
  },
  {
   "cell_type": "code",
   "execution_count": 41,
   "metadata": {},
   "outputs": [
    {
     "name": "stdout",
     "output_type": "stream",
     "text": [
      "5 6 4 7 8\n"
     ]
    }
   ],
   "source": [
    "l2 = list(map(int,input().split()))"
   ]
  },
  {
   "cell_type": "code",
   "execution_count": null,
   "metadata": {},
   "outputs": [],
   "source": []
  }
 ],
 "metadata": {
  "kernelspec": {
   "display_name": "Python 3",
   "language": "python",
   "name": "python3"
  },
  "language_info": {
   "codemirror_mode": {
    "name": "ipython",
    "version": 3
   },
   "file_extension": ".py",
   "mimetype": "text/x-python",
   "name": "python",
   "nbconvert_exporter": "python",
   "pygments_lexer": "ipython3",
   "version": "3.8.5"
  }
 },
 "nbformat": 4,
 "nbformat_minor": 4
}
