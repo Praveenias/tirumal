{
 "cells": [
  {
   "cell_type": "code",
   "execution_count": null,
   "metadata": {},
   "outputs": [],
   "source": [
    "pip insta"
   ]
  },
  {
   "cell_type": "code",
   "execution_count": 2,
   "metadata": {},
   "outputs": [
    {
     "ename": "ModuleNotFoundError",
     "evalue": "No module named 'pywhatkit'",
     "output_type": "error",
     "traceback": [
      "\u001b[1;31m---------------------------------------------------------------------------\u001b[0m",
      "\u001b[1;31mModuleNotFoundError\u001b[0m                       Traceback (most recent call last)",
      "\u001b[1;32m<ipython-input-2-94c575609ab1>\u001b[0m in \u001b[0;36m<module>\u001b[1;34m\u001b[0m\n\u001b[1;32m----> 1\u001b[1;33m \u001b[1;32mimport\u001b[0m \u001b[0mpywhatkit\u001b[0m \u001b[1;32mas\u001b[0m \u001b[0mwhastapp\u001b[0m\u001b[1;33m\u001b[0m\u001b[1;33m\u001b[0m\u001b[0m\n\u001b[0m",
      "\u001b[1;31mModuleNotFoundError\u001b[0m: No module named 'pywhatkit'"
     ]
    }
   ],
   "source": [
    "import pywhatkit as whastapp"
   ]
  },
  {
   "cell_type": "code",
   "execution_count": 2,
   "metadata": {},
   "outputs": [
    {
     "name": "stdout",
     "output_type": "stream",
     "text": [
      "10 tirumal 0.8\n"
     ]
    }
   ],
   "source": [
    "a=10\n",
    "b= 'tirumal'\n",
    "c= 0.8\n",
    "print(a,b,c)"
   ]
  },
  {
   "cell_type": "code",
   "execution_count": 3,
   "metadata": {},
   "outputs": [
    {
     "data": {
      "text/plain": [
       "'if condition:\\n    statement\\nelif condition:\\n    statement\\nelse:'"
      ]
     },
     "execution_count": 3,
     "metadata": {},
     "output_type": "execute_result"
    }
   ],
   "source": [
    "'''if condition:\n",
    "    statement\n",
    "elif condition:\n",
    "    statement\n",
    "else:'''\n",
    "    "
   ]
  },
  {
   "cell_type": "code",
   "execution_count": 5,
   "metadata": {},
   "outputs": [
    {
     "name": "stdout",
     "output_type": "stream",
     "text": [
      "[1, 2, 3, 4, 65, 6, 'dfr']\n"
     ]
    }
   ],
   "source": [
    "#list\n",
    "list1= [1,2,3,4,65,6,'dfr']\n",
    "print(list1)"
   ]
  },
  {
   "cell_type": "code",
   "execution_count": 8,
   "metadata": {},
   "outputs": [
    {
     "name": "stdout",
     "output_type": "stream",
     "text": [
      "1\n",
      "2\n",
      "3\n",
      "4\n",
      "65\n",
      "6\n",
      "dfr\n"
     ]
    }
   ],
   "source": [
    "for i in list1:\n",
    "    print(i)\n",
    "    "
   ]
  },
  {
   "cell_type": "code",
   "execution_count": 12,
   "metadata": {},
   "outputs": [
    {
     "name": "stdout",
     "output_type": "stream",
     "text": [
      "0 1\n",
      "1 2\n",
      "2 3\n",
      "3 4\n",
      "4 65\n",
      "5 6\n",
      "6 dfr\n"
     ]
    }
   ],
   "source": [
    "for i in range(len(list1)):\n",
    "    print(i,list1[i])\n"
   ]
  },
  {
   "cell_type": "code",
   "execution_count": 13,
   "metadata": {},
   "outputs": [],
   "source": [
    "#range(0,5) [0,1,2,3,4]\n",
    "#range(0,10,2) [0,2,4,6,8]\n",
    "#range(10,0,-2) [10,8,6,4,2]\n",
    "#range(5) [0,1,2,3,4]\n",
    "#range(4,10) [4,5,6,7,8,9]"
   ]
  },
  {
   "cell_type": "code",
   "execution_count": 14,
   "metadata": {},
   "outputs": [
    {
     "data": {
      "text/plain": [
       "'while condition:\\n    statement'"
      ]
     },
     "execution_count": 14,
     "metadata": {},
     "output_type": "execute_result"
    }
   ],
   "source": [
    "'''while condition:\n",
    "    statement'''"
   ]
  },
  {
   "cell_type": "code",
   "execution_count": 20,
   "metadata": {},
   "outputs": [
    {
     "name": "stdout",
     "output_type": "stream",
     "text": [
      "15\n",
      "16\n",
      "in 15-20\n",
      "in for else\n"
     ]
    }
   ],
   "source": [
    "for i in range(15,17):\n",
    "    print(i)\n",
    "    if i>15:\n",
    "        print(\"in 15-20\")\n",
    "    if(i>20):\n",
    "        print(\"in 20\")\n",
    "else:\n",
    "    print(\"in for else\")\n",
    "    "
   ]
  },
  {
   "cell_type": "code",
   "execution_count": 26,
   "metadata": {},
   "outputs": [
    {
     "name": "stdout",
     "output_type": "stream",
     "text": [
      "10\n",
      "10 <class 'str'>\n",
      "10\n",
      "10 <class 'int'>\n"
     ]
    }
   ],
   "source": [
    "a=input()\n",
    "print(a,type(a))#str type\n",
    "b=int(input()) #int_type\n",
    "print(b,type(b))"
   ]
  },
  {
   "cell_type": "code",
   "execution_count": 27,
   "metadata": {},
   "outputs": [
    {
     "name": "stdout",
     "output_type": "stream",
     "text": [
      "10\n",
      "tirumal 10\n"
     ]
    }
   ],
   "source": [
    "print(a)\n",
    "print('tirumal',a)"
   ]
  },
  {
   "cell_type": "code",
   "execution_count": 30,
   "metadata": {},
   "outputs": [
    {
     "name": "stdout",
     "output_type": "stream",
     "text": [
      "(1, 2, 3)\n",
      "[1, 2, 3]\n"
     ]
    }
   ],
   "source": [
    "a = (1,2,3)\n",
    "print(a)\n",
    "b= list(a)\n",
    "print(b)"
   ]
  },
  {
   "cell_type": "code",
   "execution_count": 34,
   "metadata": {},
   "outputs": [
    {
     "data": {
      "text/plain": [
       "[1, 2, 3]"
      ]
     },
     "execution_count": 34,
     "metadata": {},
     "output_type": "execute_result"
    }
   ],
   "source": [
    "#slicing [extract sublist from the main list]\n",
    "l=[1,2,3,4,5,6]\n",
    "l[0:3] #[1,2,3]\n",
    "l[:]#[1,2,3,4,5,6]\n",
    "l[3:5] #[4,5]\n",
    "l[:-1]#[6]\n",
    "l[:-3]#[6,5]\n",
    "l[0,5,2]#[0,2,4]"
   ]
  },
  {
   "cell_type": "code",
   "execution_count": 37,
   "metadata": {},
   "outputs": [
    {
     "data": {
      "text/plain": [
       "[2, 3, 6]"
      ]
     },
     "execution_count": 37,
     "metadata": {},
     "output_type": "execute_result"
    }
   ],
   "source": [
    "#map(function,iterator[list])\n",
    "l2=[2.0,3.0,6.0]\n",
    "v= list(map(int,l2))\n",
    "v"
   ]
  },
  {
   "cell_type": "code",
   "execution_count": 44,
   "metadata": {},
   "outputs": [
    {
     "data": {
      "text/plain": [
       "['kjh', ' kju ', 'oiu']"
      ]
     },
     "execution_count": 44,
     "metadata": {},
     "output_type": "execute_result"
    }
   ],
   "source": [
    "#split() (;)\n",
    "f = 'kjh; kju ;oiu'\n",
    "f.split(\";\")"
   ]
  },
  {
   "cell_type": "code",
   "execution_count": 41,
   "metadata": {},
   "outputs": [
    {
     "name": "stdout",
     "output_type": "stream",
     "text": [
      "5 6 4 7 8\n"
     ]
    }
   ],
   "source": [
    "l2 = list(map(int,input().split()))"
   ]
  },
  {
   "cell_type": "code",
   "execution_count": 2,
   "metadata": {},
   "outputs": [
    {
     "data": {
      "text/plain": [
       "0"
      ]
     },
     "execution_count": 2,
     "metadata": {},
     "output_type": "execute_result"
    }
   ],
   "source": [
    "l=[1,2,3,4,5]\n",
    "l.append(6) #[1,2,3,4,5,6]\n",
    "l.pop()#[1,2,3,4,5]\n",
    "l.pop(0)#[2,3,4,5]\n",
    "l.index(2) #[1]\n",
    "l.remove(3)#[1,2,4,5]\n"
   ]
  },
  {
   "cell_type": "markdown",
   "metadata": {},
   "source": [
    "# Python program to check whether a number is Prime or not"
   ]
  },
  {
   "cell_type": "code",
   "execution_count": 3,
   "metadata": {},
   "outputs": [
    {
     "data": {
      "text/plain": [
       "'prime number is divisible by 0 and that number  ex: 2,3,5,7,11,13,17,23..'"
      ]
     },
     "execution_count": 3,
     "metadata": {},
     "output_type": "execute_result"
    }
   ],
   "source": [
    "'''prime number is divisible by 0 and that number  ex: 2,3,5,7,11,13,17,23..'''"
   ]
  },
  {
   "cell_type": "code",
   "execution_count": 15,
   "metadata": {},
   "outputs": [],
   "source": [
    "def prime(a):\n",
    "    for i in range(2,a):\n",
    "        if a%i == 0:\n",
    "            #print(\"yes\")\n",
    "            return False\n",
    "    else:\n",
    "        return True\n",
    "\n",
    "#if no condition satisfied by for loop else will execute"
   ]
  },
  {
   "cell_type": "code",
   "execution_count": 17,
   "metadata": {},
   "outputs": [
    {
     "name": "stdout",
     "output_type": "stream",
     "text": [
      "2 3 5 7 11 13 17 19 23 29 31 37 41 43 47 53 59 61 67 71 73 79 83 89 97 "
     ]
    }
   ],
   "source": [
    "for i in range(2,100):\n",
    "    if prime(i) == True:\n",
    "        print(i,end=\" \")"
   ]
  },
  {
   "cell_type": "markdown",
   "metadata": {},
   "source": [
    "# Python Program for factorial of a number"
   ]
  },
  {
   "cell_type": "code",
   "execution_count": 18,
   "metadata": {},
   "outputs": [
    {
     "data": {
      "text/plain": [
       "' 5= 5*4*3*2*1....o/p=120'"
      ]
     },
     "execution_count": 18,
     "metadata": {},
     "output_type": "execute_result"
    }
   ],
   "source": [
    "''' 5= 5*4*3*2*1....o/p=120'''\n",
    "#0! = 0"
   ]
  },
  {
   "cell_type": "code",
   "execution_count": 20,
   "metadata": {},
   "outputs": [
    {
     "name": "stdout",
     "output_type": "stream",
     "text": [
      "5\n",
      "120\n"
     ]
    }
   ],
   "source": [
    "a=int(input())\n",
    "out=1\n",
    "for i in range(1,a+1):\n",
    "    out*=i #out = out*i 1,2,6,24,120\n",
    "print(out)"
   ]
  },
  {
   "cell_type": "markdown",
   "metadata": {},
   "source": [
    "# Python Program for Sum of squares of first n natural numbers"
   ]
  },
  {
   "cell_type": "code",
   "execution_count": 2,
   "metadata": {},
   "outputs": [
    {
     "name": "stdout",
     "output_type": "stream",
     "text": [
      "5\n",
      "1 --> 1\n",
      "2 --> 4\n",
      "3 --> 9\n",
      "4 --> 16\n"
     ]
    }
   ],
   "source": [
    "a=int(input())\n",
    "for i in range(1,a):\n",
    "    print(i,\"-->\",i*i)\n"
   ]
  },
  {
   "cell_type": "markdown",
   "metadata": {},
   "source": [
    "# Python Program to find sum of list"
   ]
  },
  {
   "cell_type": "code",
   "execution_count": 6,
   "metadata": {},
   "outputs": [
    {
     "name": "stdout",
     "output_type": "stream",
     "text": [
      "1 2 5 4 6 8\n",
      "1\n",
      "3\n",
      "8\n",
      "12\n",
      "18\n",
      "26\n",
      "total:  26\n"
     ]
    }
   ],
   "source": [
    "l1 = list(map(int,input().split()))\n",
    "#print(sum(l1))\n",
    "sumn=0\n",
    "for i in l1:\n",
    "    sumn+=i\n",
    "    print(sumn)\n",
    "print(\"total: \" ,sumn)"
   ]
  },
  {
   "cell_type": "markdown",
   "metadata": {},
   "source": [
    "# Python Program to find largest element in an array"
   ]
  },
  {
   "cell_type": "code",
   "execution_count": 7,
   "metadata": {},
   "outputs": [
    {
     "name": "stdout",
     "output_type": "stream",
     "text": [
      "8\n"
     ]
    }
   ],
   "source": [
    "# max(l1) ==> 8\n",
    "# min(l1) ==>1\n",
    "max = l1[0]\n",
    "for i in l1:\n",
    "    if max<i:\n",
    "        max = i\n",
    "print(max)\n"
   ]
  },
  {
   "cell_type": "markdown",
   "metadata": {},
   "source": [
    "# Python | Reversing a List"
   ]
  },
  {
   "cell_type": "code",
   "execution_count": 12,
   "metadata": {},
   "outputs": [
    {
     "data": {
      "text/plain": [
       "[8, 6, 4, 5, 2, 1]"
      ]
     },
     "execution_count": 12,
     "metadata": {},
     "output_type": "execute_result"
    }
   ],
   "source": [
    "l1[::-1]"
   ]
  },
  {
   "cell_type": "markdown",
   "metadata": {},
   "source": [
    "# Python program to print all even numbers in a range"
   ]
  },
  {
   "cell_type": "code",
   "execution_count": 34,
   "metadata": {},
   "outputs": [
    {
     "name": "stdout",
     "output_type": "stream",
     "text": [
      "range:5\n",
      "2\n",
      "4\n"
     ]
    }
   ],
   "source": [
    "a=int(input(\"range:\"))\n",
    "for i in range(1,a):\n",
    "    if i%2==0:\n",
    "        print(i)\n",
    "    "
   ]
  },
  {
   "cell_type": "markdown",
   "metadata": {},
   "source": [
    "# Python program to interchange first and last elements in a list"
   ]
  },
  {
   "cell_type": "code",
   "execution_count": 25,
   "metadata": {},
   "outputs": [
    {
     "name": "stdout",
     "output_type": "stream",
     "text": [
      "5 2 3 4 1\n"
     ]
    }
   ],
   "source": [
    "l1=[1,2,3,4,5]\n",
    "l1[0],l1[-1]=l1[-1],l1[0]\n",
    "print(*l1)"
   ]
  },
  {
   "cell_type": "code",
   "execution_count": null,
   "metadata": {},
   "outputs": [],
   "source": [
    "'''# Given 2 numbers N,K and an array of N integers, find if the element K exists in the array.\n",
    "Input Size : N <= 100000\n",
    "Sample Testcase :\n",
    "INPUT\n",
    "5 2\n",
    "1 2 3 4 5\n",
    "OUTPUT\n",
    "yes'''"
   ]
  },
  {
   "cell_type": "code",
   "execution_count": null,
   "metadata": {},
   "outputs": [],
   "source": []
  },
  {
   "cell_type": "code",
   "execution_count": null,
   "metadata": {},
   "outputs": [],
   "source": [
    "# input:m n   output:m n"
   ]
  },
  {
   "cell_type": "code",
   "execution_count": 2,
   "metadata": {},
   "outputs": [
    {
     "name": "stdout",
     "output_type": "stream",
     "text": [
      "m n\n",
      "m n\n"
     ]
    }
   ],
   "source": [
    "a,b=input().split()\n",
    "print(a,b)\n",
    "\n"
   ]
  },
  {
   "cell_type": "code",
   "execution_count": 15,
   "metadata": {},
   "outputs": [
    {
     "name": "stdout",
     "output_type": "stream",
     "text": [
      "5\n",
      "1 2 4 7 2\n",
      "3\n"
     ]
    }
   ],
   "source": [
    "try:\n",
    "    a=int(input())\n",
    "    l1=list(map(int,input().split()))[:a]\n",
    "    print(l1.index(max(l1))-l1.index(min(l1)))\n",
    "    \n",
    "except Exception as err:\n",
    "    print(\" poda bunde \")\n"
   ]
  },
  {
   "cell_type": "markdown",
   "metadata": {},
   "source": [
    "# print()"
   ]
  },
  {
   "cell_type": "code",
   "execution_count": 21,
   "metadata": {},
   "outputs": [
    {
     "name": "stdout",
     "output_type": "stream",
     "text": [
      "a b\n"
     ]
    }
   ],
   "source": [
    "print('a',end =\" \")\n",
    "print('b')"
   ]
  },
  {
   "cell_type": "code",
   "execution_count": 29,
   "metadata": {},
   "outputs": [
    {
     "name": "stdout",
     "output_type": "stream",
     "text": [
      "1 2 3\n"
     ]
    }
   ],
   "source": [
    "l1=[1,2,3]\n",
    "print(*l1)"
   ]
  },
  {
   "cell_type": "code",
   "execution_count": 30,
   "metadata": {},
   "outputs": [
    {
     "name": "stdout",
     "output_type": "stream",
     "text": [
      "1->2->3\n"
     ]
    }
   ],
   "source": [
    "l1=[1,2,3]\n",
    "print(*l1,sep=\"->\")"
   ]
  },
  {
   "cell_type": "code",
   "execution_count": 9,
   "metadata": {},
   "outputs": [
    {
     "name": "stdout",
     "output_type": "stream",
     "text": [
      "[8, 7, 5, 4, 2, 1]\n"
     ]
    }
   ],
   "source": [
    "l1=[5,4,2,7,8,1]\n",
    "print(sorted(l1,reverse = True))\n"
   ]
  },
  {
   "cell_type": "code",
   "execution_count": 21,
   "metadata": {},
   "outputs": [
    {
     "name": "stdout",
     "output_type": "stream",
     "text": [
      "5 2\n",
      "4 3 1 2 4\n",
      "3 4 4 2 1\n"
     ]
    }
   ],
   "source": [
    "a,b=map(int,input().split())\n",
    "l1=list(map(int,input().split()))\n",
    "l2=(sorted(l1[:b])+sorted(l1[b:],reverse=True))\n",
    "print(*l2)"
   ]
  },
  {
   "cell_type": "code",
   "execution_count": null,
   "metadata": {},
   "outputs": [],
   "source": [
    "l1=list(map(int,input().split()))\n",
    "a=int(input())\n",
    "for i in l1:\n",
    "    if a==l1:\n",
    "        print('yes')\n",
    "    else:\n",
    "        print('no')"
   ]
  },
  {
   "cell_type": "code",
   "execution_count": 3,
   "metadata": {},
   "outputs": [
    {
     "ename": "TypeError",
     "evalue": "'int' object is not iterable",
     "output_type": "error",
     "traceback": [
      "\u001b[1;31m---------------------------------------------------------------------------\u001b[0m",
      "\u001b[1;31mTypeError\u001b[0m                                 Traceback (most recent call last)",
      "\u001b[1;32m<ipython-input-3-8251437b8488>\u001b[0m in \u001b[0;36m<module>\u001b[1;34m\u001b[0m\n\u001b[0;32m      7\u001b[0m             \u001b[0mb\u001b[0m \u001b[1;33m+=\u001b[0m \u001b[0msum\u001b[0m\u001b[1;33m(\u001b[0m\u001b[1;33m(\u001b[0m\u001b[0mcatalan_rec\u001b[0m\u001b[1;33m(\u001b[0m\u001b[0mi\u001b[0m\u001b[1;33m)\u001b[0m\u001b[1;33m)\u001b[0m\u001b[1;33m*\u001b[0m\u001b[1;33m(\u001b[0m\u001b[0mcatalan_rec\u001b[0m\u001b[1;33m(\u001b[0m\u001b[0mn\u001b[0m\u001b[1;33m-\u001b[0m\u001b[1;36m1\u001b[0m\u001b[1;33m-\u001b[0m\u001b[0mi\u001b[0m\u001b[1;33m)\u001b[0m\u001b[1;33m)\u001b[0m\u001b[1;33m)\u001b[0m\u001b[1;33m\u001b[0m\u001b[1;33m\u001b[0m\u001b[0m\n\u001b[0;32m      8\u001b[0m     \u001b[1;32mreturn\u001b[0m \u001b[0mb\u001b[0m\u001b[1;33m\u001b[0m\u001b[1;33m\u001b[0m\u001b[0m\n\u001b[1;32m----> 9\u001b[1;33m \u001b[0mprint\u001b[0m\u001b[1;33m(\u001b[0m\u001b[0mcatalan_rec\u001b[0m\u001b[1;33m(\u001b[0m\u001b[1;36m3\u001b[0m\u001b[1;33m)\u001b[0m\u001b[1;33m)\u001b[0m\u001b[1;33m\u001b[0m\u001b[1;33m\u001b[0m\u001b[0m\n\u001b[0m",
      "\u001b[1;32m<ipython-input-3-8251437b8488>\u001b[0m in \u001b[0;36mcatalan_rec\u001b[1;34m(n)\u001b[0m\n\u001b[0;32m      5\u001b[0m         \u001b[0mb\u001b[0m \u001b[1;33m=\u001b[0m \u001b[1;36m0\u001b[0m\u001b[1;33m\u001b[0m\u001b[1;33m\u001b[0m\u001b[0m\n\u001b[0;32m      6\u001b[0m         \u001b[1;32mfor\u001b[0m \u001b[0mi\u001b[0m \u001b[1;32min\u001b[0m \u001b[0mrange\u001b[0m \u001b[1;33m(\u001b[0m\u001b[0mn\u001b[0m\u001b[1;33m)\u001b[0m\u001b[1;33m:\u001b[0m\u001b[1;33m\u001b[0m\u001b[1;33m\u001b[0m\u001b[0m\n\u001b[1;32m----> 7\u001b[1;33m             \u001b[0mb\u001b[0m \u001b[1;33m+=\u001b[0m \u001b[0msum\u001b[0m\u001b[1;33m(\u001b[0m\u001b[1;33m(\u001b[0m\u001b[0mcatalan_rec\u001b[0m\u001b[1;33m(\u001b[0m\u001b[0mi\u001b[0m\u001b[1;33m)\u001b[0m\u001b[1;33m)\u001b[0m\u001b[1;33m*\u001b[0m\u001b[1;33m(\u001b[0m\u001b[0mcatalan_rec\u001b[0m\u001b[1;33m(\u001b[0m\u001b[0mn\u001b[0m\u001b[1;33m-\u001b[0m\u001b[1;36m1\u001b[0m\u001b[1;33m-\u001b[0m\u001b[0mi\u001b[0m\u001b[1;33m)\u001b[0m\u001b[1;33m)\u001b[0m\u001b[1;33m)\u001b[0m\u001b[1;33m\u001b[0m\u001b[1;33m\u001b[0m\u001b[0m\n\u001b[0m\u001b[0;32m      8\u001b[0m     \u001b[1;32mreturn\u001b[0m \u001b[0mb\u001b[0m\u001b[1;33m\u001b[0m\u001b[1;33m\u001b[0m\u001b[0m\n\u001b[0;32m      9\u001b[0m \u001b[0mprint\u001b[0m\u001b[1;33m(\u001b[0m\u001b[0mcatalan_rec\u001b[0m\u001b[1;33m(\u001b[0m\u001b[1;36m3\u001b[0m\u001b[1;33m)\u001b[0m\u001b[1;33m)\u001b[0m\u001b[1;33m\u001b[0m\u001b[1;33m\u001b[0m\u001b[0m\n",
      "\u001b[1;32m<ipython-input-3-8251437b8488>\u001b[0m in \u001b[0;36mcatalan_rec\u001b[1;34m(n)\u001b[0m\n\u001b[0;32m      5\u001b[0m         \u001b[0mb\u001b[0m \u001b[1;33m=\u001b[0m \u001b[1;36m0\u001b[0m\u001b[1;33m\u001b[0m\u001b[1;33m\u001b[0m\u001b[0m\n\u001b[0;32m      6\u001b[0m         \u001b[1;32mfor\u001b[0m \u001b[0mi\u001b[0m \u001b[1;32min\u001b[0m \u001b[0mrange\u001b[0m \u001b[1;33m(\u001b[0m\u001b[0mn\u001b[0m\u001b[1;33m)\u001b[0m\u001b[1;33m:\u001b[0m\u001b[1;33m\u001b[0m\u001b[1;33m\u001b[0m\u001b[0m\n\u001b[1;32m----> 7\u001b[1;33m             \u001b[0mb\u001b[0m \u001b[1;33m+=\u001b[0m \u001b[0msum\u001b[0m\u001b[1;33m(\u001b[0m\u001b[1;33m(\u001b[0m\u001b[0mcatalan_rec\u001b[0m\u001b[1;33m(\u001b[0m\u001b[0mi\u001b[0m\u001b[1;33m)\u001b[0m\u001b[1;33m)\u001b[0m\u001b[1;33m*\u001b[0m\u001b[1;33m(\u001b[0m\u001b[0mcatalan_rec\u001b[0m\u001b[1;33m(\u001b[0m\u001b[0mn\u001b[0m\u001b[1;33m-\u001b[0m\u001b[1;36m1\u001b[0m\u001b[1;33m-\u001b[0m\u001b[0mi\u001b[0m\u001b[1;33m)\u001b[0m\u001b[1;33m)\u001b[0m\u001b[1;33m)\u001b[0m\u001b[1;33m\u001b[0m\u001b[1;33m\u001b[0m\u001b[0m\n\u001b[0m\u001b[0;32m      8\u001b[0m     \u001b[1;32mreturn\u001b[0m \u001b[0mb\u001b[0m\u001b[1;33m\u001b[0m\u001b[1;33m\u001b[0m\u001b[0m\n\u001b[0;32m      9\u001b[0m \u001b[0mprint\u001b[0m\u001b[1;33m(\u001b[0m\u001b[0mcatalan_rec\u001b[0m\u001b[1;33m(\u001b[0m\u001b[1;36m3\u001b[0m\u001b[1;33m)\u001b[0m\u001b[1;33m)\u001b[0m\u001b[1;33m\u001b[0m\u001b[1;33m\u001b[0m\u001b[0m\n",
      "\u001b[1;32m<ipython-input-3-8251437b8488>\u001b[0m in \u001b[0;36mcatalan_rec\u001b[1;34m(n)\u001b[0m\n\u001b[0;32m      5\u001b[0m         \u001b[0mb\u001b[0m \u001b[1;33m=\u001b[0m \u001b[1;36m0\u001b[0m\u001b[1;33m\u001b[0m\u001b[1;33m\u001b[0m\u001b[0m\n\u001b[0;32m      6\u001b[0m         \u001b[1;32mfor\u001b[0m \u001b[0mi\u001b[0m \u001b[1;32min\u001b[0m \u001b[0mrange\u001b[0m \u001b[1;33m(\u001b[0m\u001b[0mn\u001b[0m\u001b[1;33m)\u001b[0m\u001b[1;33m:\u001b[0m\u001b[1;33m\u001b[0m\u001b[1;33m\u001b[0m\u001b[0m\n\u001b[1;32m----> 7\u001b[1;33m             \u001b[0mb\u001b[0m \u001b[1;33m+=\u001b[0m \u001b[0msum\u001b[0m\u001b[1;33m(\u001b[0m\u001b[1;33m(\u001b[0m\u001b[0mcatalan_rec\u001b[0m\u001b[1;33m(\u001b[0m\u001b[0mi\u001b[0m\u001b[1;33m)\u001b[0m\u001b[1;33m)\u001b[0m\u001b[1;33m*\u001b[0m\u001b[1;33m(\u001b[0m\u001b[0mcatalan_rec\u001b[0m\u001b[1;33m(\u001b[0m\u001b[0mn\u001b[0m\u001b[1;33m-\u001b[0m\u001b[1;36m1\u001b[0m\u001b[1;33m-\u001b[0m\u001b[0mi\u001b[0m\u001b[1;33m)\u001b[0m\u001b[1;33m)\u001b[0m\u001b[1;33m)\u001b[0m\u001b[1;33m\u001b[0m\u001b[1;33m\u001b[0m\u001b[0m\n\u001b[0m\u001b[0;32m      8\u001b[0m     \u001b[1;32mreturn\u001b[0m \u001b[0mb\u001b[0m\u001b[1;33m\u001b[0m\u001b[1;33m\u001b[0m\u001b[0m\n\u001b[0;32m      9\u001b[0m \u001b[0mprint\u001b[0m\u001b[1;33m(\u001b[0m\u001b[0mcatalan_rec\u001b[0m\u001b[1;33m(\u001b[0m\u001b[1;36m3\u001b[0m\u001b[1;33m)\u001b[0m\u001b[1;33m)\u001b[0m\u001b[1;33m\u001b[0m\u001b[1;33m\u001b[0m\u001b[0m\n",
      "\u001b[1;31mTypeError\u001b[0m: 'int' object is not iterable"
     ]
    }
   ],
   "source": [
    "def catalan_rec(n):\n",
    "    if n == 0:\n",
    "        return 1\n",
    "    else:\n",
    "        b = 0\n",
    "        for i in range (n):\n",
    "            b += sum((catalan_rec(i))*(catalan_rec(n-1-i)))\n",
    "    return b\n",
    "print(catalan_rec(3))"
   ]
  },
  {
   "cell_type": "code",
   "execution_count": 10,
   "metadata": {},
   "outputs": [
    {
     "name": "stdout",
     "output_type": "stream",
     "text": [
      "2\n",
      "4\n"
     ]
    }
   ],
   "source": [
    "def count(a):\n",
    "    for i in a:\n",
    "        coun = a.count(i)\n",
    "        "
   ]
  },
  {
   "cell_type": "code",
   "execution_count": 14,
   "metadata": {},
   "outputs": [
    {
     "name": "stdout",
     "output_type": "stream",
     "text": [
      "vivekanand\n",
      "v 2\n",
      "i 1\n",
      "v 2\n",
      "e 3\n",
      "k 4\n",
      "a 12\n",
      "n 14\n",
      "a 12\n",
      "n 14\n",
      "d 9\n"
     ]
    }
   ],
   "source": [
    "occurrences = lambda s, lst: (i for i,e in enumerate(lst) if e == s)\n",
    "a = list(input())\n",
    "for i in a:\n",
    "    print(i,sum(list(occurrences(i, list(a)))))"
   ]
  },
  {
   "cell_type": "code",
   "execution_count": 19,
   "metadata": {},
   "outputs": [
    {
     "name": "stdout",
     "output_type": "stream",
     "text": [
      "a 12\n"
     ]
    }
   ],
   "source": [
    "occurrences = lambda s, lst: (i for i,e in enumerate(lst) if e == s)\n",
    "print('a',sum(list(occurrences('a', 'vivekanand'))))"
   ]
  },
  {
   "cell_type": "markdown",
   "metadata": {},
   "source": [
    "# FUNCTION"
   ]
  },
  {
   "cell_type": "code",
   "execution_count": 1,
   "metadata": {},
   "outputs": [],
   "source": [
    "#GROUP OF CODE TO PERFORM SECIPIC TASKS"
   ]
  },
  {
   "cell_type": "code",
   "execution_count": 2,
   "metadata": {},
   "outputs": [],
   "source": [
    "#def function_name(parameters):\n",
    "    #code\n",
    "    #return (if needed)\n",
    "    "
   ]
  },
  {
   "cell_type": "code",
   "execution_count": 7,
   "metadata": {},
   "outputs": [
    {
     "name": "stdout",
     "output_type": "stream",
     "text": [
      "7\n"
     ]
    }
   ],
   "source": [
    "def sum(a,b):\n",
    "    return a+b\n",
    "c = sum(3,4)\n",
    "print(c)"
   ]
  },
  {
   "cell_type": "code",
   "execution_count": 10,
   "metadata": {},
   "outputs": [
    {
     "data": {
      "text/plain": [
       "[5, 4, 3, 2, 1]"
      ]
     },
     "execution_count": 10,
     "metadata": {},
     "output_type": "execute_result"
    }
   ],
   "source": [
    "def reversee(list1):\n",
    "    return list1[::-1]\n",
    "l1 = [1,2,3,4,5]\n",
    "reversee(l1)"
   ]
  },
  {
   "cell_type": "markdown",
   "metadata": {},
   "source": [
    "\n",
    "# dictionary"
   ]
  },
  {
   "cell_type": "code",
   "execution_count": 20,
   "metadata": {},
   "outputs": [
    {
     "name": "stdout",
     "output_type": "stream",
     "text": [
      "dict_keys(['a', 'b'])\n",
      "dict_values([1, 2])\n",
      "dict_items([('a', 1), ('b', 2)])\n"
     ]
    }
   ],
   "source": [
    "#set of key value pair\n",
    "dict2 = {'a':1,'b':2}\n",
    "print(dict2.keys())\n",
    "print(dict2.values())\n",
    "print(dict2.items())"
   ]
  },
  {
   "cell_type": "code",
   "execution_count": 1,
   "metadata": {},
   "outputs": [
    {
     "name": "stdout",
     "output_type": "stream",
     "text": [
      "3\n"
     ]
    }
   ],
   "source": [
    "l1=[1,2,2,3,3,3]\n",
    "print(l1.count(3))"
   ]
  },
  {
   "cell_type": "code",
   "execution_count": 13,
   "metadata": {},
   "outputs": [
    {
     "name": "stdout",
     "output_type": "stream",
     "text": [
      "4 2 \n",
      "1 2 3 2\n",
      "yes\n"
     ]
    }
   ],
   "source": [
    "a,b=map(int,input().split())\n",
    "l1=list(map(int,input().split()))[:a]\n",
    "if b in l1:\n",
    "    print('yes')\n",
    "else:\n",
    "    print('no')\n"
   ]
  },
  {
   "cell_type": "code",
   "execution_count": null,
   "metadata": {},
   "outputs": [],
   "source": [
    "a=int(input())\n",
    "l1=list(map(int,input().split()))[:a]\n",
    "l2=[]\n",
    "for i in l1:\n",
    "    if i%2==0:\n",
    "        l2.append(i)\n",
    "    else:\n",
    "        l3.append(i)\n",
    "l4=l3+        "
   ]
  },
  {
   "cell_type": "code",
   "execution_count": 1,
   "metadata": {},
   "outputs": [
    {
     "name": "stdout",
     "output_type": "stream",
     "text": [
      "3\n",
      "2\n",
      "14 94\n",
      "3\n",
      "10 15 20\n",
      "5\n",
      "5 1 2 4 3\n",
      "[14, 94, 10, 15, 20, 1, 2, 3, 4, 5]\n"
     ]
    }
   ],
   "source": [
    "l1=[]\n",
    "a=int(input())\n",
    "for i in range(a):\n",
    "    n = int(input())\n",
    "    local_list = sorted(list(map(int,input().split())))[:n]\n",
    "    l1 += local_list\n",
    "print(*l1)  "
   ]
  },
  {
   "cell_type": "code",
   "execution_count": 4,
   "metadata": {},
   "outputs": [
    {
     "name": "stdout",
     "output_type": "stream",
     "text": [
      "5\n",
      "5 25 35 -5 30\n",
      "1\n"
     ]
    }
   ],
   "source": [
    "a=int(input())\n",
    "l1=list(map(int,input().split()))[:a]\n",
    "c=sum(l1)\n",
    "if(c%2==0 and c%3==0  ) and c%5==0:\n",
    "    print('1')\n",
    "else:\n",
    "    print('0')"
   ]
  },
  {
   "cell_type": "code",
   "execution_count": null,
   "metadata": {},
   "outputs": [],
   "source": [
    "def dec(l1):\n",
    "    c=sum(l1)\n",
    "    if(c%2==0 and c%3==0  ) and c%5==0:\n",
    "        return 1\n",
    "    else:\n",
    "        return 0\n",
    "a=int(input())\n",
    "l1=list(map(int,input().split()))[:a]\n",
    "print(dec(l1))"
   ]
  },
  {
   "cell_type": "code",
   "execution_count": 6,
   "metadata": {},
   "outputs": [
    {
     "name": "stdout",
     "output_type": "stream",
     "text": [
      "3\n",
      "thirumal 81734 sridharshini_loves  12343\n",
      "{'thirumal': 81734, 'sridharshini_loves': 12343}\n",
      "sridharshini_loves thirumal "
     ]
    }
   ],
   "source": [
    "a=int(input())\n",
    "list1 = input().split()\n",
    "d = {}\n",
    "for i in range(0,len(list1),2):\n",
    "    d[list1[i]] = int(list1[i+1])\n",
    "print(d)\n",
    "list2 = sorted(map(int,list1[::-2]))\n",
    "for key in list2:\n",
    "    print(list1[list1.index(str(key))-1],end =\" \")"
   ]
  },
  {
   "cell_type": "code",
   "execution_count": 6,
   "metadata": {},
   "outputs": [
    {
     "name": "stdout",
     "output_type": "stream",
     "text": [
      "3\n",
      "Karthik 23000 rohan 81734 varshini 12343\n",
      "key: Karthik value: 23000\n",
      "key: rohan value: 81734\n",
      "key: varshini value: 12343\n"
     ]
    }
   ],
   "source": [
    "a=int(input())\n",
    "list1 = input().split()\n",
    "d = {}\n",
    "for i in range(0,len(list1),2):\n",
    "    print(\"key:\",list1[i],\"value:\",list1[i+1])"
   ]
  },
  {
   "cell_type": "code",
   "execution_count": 4,
   "metadata": {},
   "outputs": [
    {
     "name": "stdout",
     "output_type": "stream",
     "text": [
      "5\n",
      "1 2 3 4 4\n",
      "5 6 7 8 9\n",
      "-1\n"
     ]
    }
   ],
   "source": [
    "a=int(input())\n",
    "l1=list(map(int,input().split()))[:a]\n",
    "l2=list(map(int,input().split()))[:a]\n",
    "h=0\n",
    "for i in l1:\n",
    "    if i in l2:\n",
    "        h=1\n",
    "        l2.remove(i)\n",
    "        print(i)\n",
    "if h == 0:\n",
    "    print(\"-1\")"
   ]
  },
  {
   "cell_type": "code",
   "execution_count": 11,
   "metadata": {},
   "outputs": [
    {
     "name": "stdout",
     "output_type": "stream",
     "text": [
      "7\n",
      "1 2 3 4 6 0 0\n",
      "1\n"
     ]
    }
   ],
   "source": [
    "a=int(input())\n",
    "l1=list(map(int,input().split()))[:a]\n",
    "if sum(l1[:3])==sum(l1[:-4:-1]):\n",
    "    print('1')\n",
    "else:\n",
    "    print('0')"
   ]
  },
  {
   "cell_type": "code",
   "execution_count": 12,
   "metadata": {},
   "outputs": [
    {
     "name": "stdout",
     "output_type": "stream",
     "text": [
      "7\n",
      "1 2 3 4 6 0 0\n",
      "1\n"
     ]
    }
   ],
   "source": [
    "def revw(a,l1):\n",
    "    if sum(l1[:3])==sum(l1[:-4:-1]):\n",
    "        return '1'\n",
    "    else:\n",
    "        return '0'\n",
    "a=int(input())\n",
    "l1=list(map(int,input().split()))[:a]\n",
    "print(revw(a,l1))\n",
    "    "
   ]
  },
  {
   "cell_type": "code",
   "execution_count": 1,
   "metadata": {},
   "outputs": [
    {
     "name": "stdout",
     "output_type": "stream",
     "text": [
      "hello 3\n",
      "llohe\n"
     ]
    }
   ],
   "source": [
    "s,b=input().split()\n",
    "b=int(b)\n",
    "for i in range(b):\n",
    "    s = s[-1] + s[:-1]\n",
    "print(s)"
   ]
  },
  {
   "cell_type": "code",
   "execution_count": 4,
   "metadata": {},
   "outputs": [
    {
     "name": "stdout",
     "output_type": "stream",
     "text": [
      "8\n",
      "1 6 5 3 2 4 10 12\n",
      "7\n"
     ]
    }
   ],
   "source": [
    "a=int(input())\n",
    "l1=list(map(int,input().split()))[:a]\n",
    "c=max(l1)\n",
    "print(l1.index(c))"
   ]
  },
  {
   "cell_type": "code",
   "execution_count": 3,
   "metadata": {},
   "outputs": [
    {
     "name": "stdout",
     "output_type": "stream",
     "text": [
      "i am jsb\n",
      "jsb am i\n"
     ]
    }
   ],
   "source": [
    "a=input()\n",
    "l1=list(a.split())\n",
    "print(*l1[::-1])\n"
   ]
  },
  {
   "cell_type": "code",
   "execution_count": 2,
   "metadata": {},
   "outputs": [
    {
     "name": "stdout",
     "output_type": "stream",
     "text": [
      "k= 3\n",
      "1 3\n",
      "7 8 9 4\n",
      "2 5 3\n",
      "[1, 2, 3, 3, 4, 5, 7, 8, 9]\n"
     ]
    }
   ],
   "source": [
    "a=input('k= ')\n",
    "list1=[]\n",
    "for i in range(int(a)):\n",
    "    li=list(map(int,input().split()))\n",
    "    list1+=li\n",
    "print(sorted(list1))"
   ]
  },
  {
   "cell_type": "code",
   "execution_count": 1,
   "metadata": {},
   "outputs": [
    {
     "name": "stdout",
     "output_type": "stream",
     "text": [
      "2 23\n",
      "2\n"
     ]
    }
   ],
   "source": [
    "l1=list(map(int,input().split()))\n",
    "print(min(l1))"
   ]
  },
  {
   "cell_type": "code",
   "execution_count": 3,
   "metadata": {},
   "outputs": [
    {
     "name": "stdout",
     "output_type": "stream",
     "text": [
      "3\n",
      "Odd\n"
     ]
    }
   ],
   "source": [
    "a=int(input())\n",
    "if a==0:\n",
    "    print('Zero')\n",
    "elif a%2==0:\n",
    "    print('Even')\n",
    "else:\n",
    "    print('Odd')"
   ]
  },
  {
   "cell_type": "code",
   "execution_count": 12,
   "metadata": {},
   "outputs": [
    {
     "ename": "SyntaxError",
     "evalue": "unexpected EOF while parsing (<ipython-input-12-96967ead4c4c>, line 3)",
     "output_type": "error",
     "traceback": [
      "\u001b[1;36m  File \u001b[1;32m\"<ipython-input-12-96967ead4c4c>\"\u001b[1;36m, line \u001b[1;32m3\u001b[0m\n\u001b[1;33m    \u001b[0m\n\u001b[1;37m    ^\u001b[0m\n\u001b[1;31mSyntaxError\u001b[0m\u001b[1;31m:\u001b[0m unexpected EOF while parsing\n"
     ]
    }
   ],
   "source": [
    "a=input()\n",
    "  \n",
    "print(len(b)\n",
    "    \n"
   ]
  },
  {
   "cell_type": "code",
   "execution_count": 1,
   "metadata": {},
   "outputs": [
    {
     "name": "stdout",
     "output_type": "stream",
     "text": [
      "4\n",
      "4\n",
      "4\n",
      "4\n",
      "4\n",
      "4\n"
     ]
    }
   ],
   "source": [
    "a=int(input())\n",
    "for i in range(5):\n",
    "    print(a)"
   ]
  },
  {
   "cell_type": "code",
   "execution_count": 2,
   "metadata": {},
   "outputs": [
    {
     "name": "stdout",
     "output_type": "stream",
     "text": [
      "2 3\n",
      "2\n",
      "2\n",
      "2\n"
     ]
    }
   ],
   "source": [
    "a,n=map(int,input().split())\n",
    "for i in range(n):\n",
    "    print(a)"
   ]
  },
  {
   "cell_type": "code",
   "execution_count": 16,
   "metadata": {},
   "outputs": [
    {
     "name": "stdout",
     "output_type": "stream",
     "text": [
      "6\n",
      "0\n",
      "2\n",
      "4\n",
      "6\n"
     ]
    }
   ],
   "source": [
    "a=int(input())\n",
    "k=1\n",
    "for i in range(a+1):\n",
    "    k+=1\n",
    "    if k%2==0:\n",
    "        print(i)\n",
    "        "
   ]
  },
  {
   "cell_type": "code",
   "execution_count": 18,
   "metadata": {},
   "outputs": [
    {
     "name": "stdout",
     "output_type": "stream",
     "text": [
      "2 4\n",
      "4\n"
     ]
    }
   ],
   "source": [
    "a,n=map(int,input().split())\n",
    "print(int(a*n/2))"
   ]
  },
  {
   "cell_type": "code",
   "execution_count": 7,
   "metadata": {},
   "outputs": [
    {
     "name": "stdout",
     "output_type": "stream",
     "text": [
      "9 2\n",
      "odd\n"
     ]
    }
   ],
   "source": [
    "a,b=map(int,input().split())\n",
    "if (a+b)%2==0:\n",
    "    print('even')\n",
    "else:\n",
    "    print('odd')"
   ]
  },
  {
   "cell_type": "code",
   "execution_count": 14,
   "metadata": {},
   "outputs": [
    {
     "name": "stdout",
     "output_type": "stream",
     "text": [
      "5\n",
      "1\n",
      "2\n",
      "3\n",
      "4\n",
      "5\n"
     ]
    }
   ],
   "source": [
    "a=int(input())\n",
    "i=1\n",
    "for i in range(a):\n",
    "    print(i+1)\n",
    "    \n",
    "    "
   ]
  },
  {
   "cell_type": "code",
   "execution_count": 22,
   "metadata": {},
   "outputs": [
    {
     "name": "stdout",
     "output_type": "stream",
     "text": [
      "10\n",
      "45\n"
     ]
    }
   ],
   "source": [
    "l1=[int(i) for i in range(int(input()))]\n",
    "print(sum(l1))"
   ]
  },
  {
   "cell_type": "markdown",
   "metadata": {},
   "source": [
    "# OOPS"
   ]
  },
  {
   "cell_type": "code",
   "execution_count": null,
   "metadata": {},
   "outputs": [],
   "source": [
    "#CLASS AND OBJECTS\n",
    "'''A class is a blueprint for the object.\n",
    "An object (instance) is an instantiation of a class\n",
    "\n",
    "Inheritance\n",
    "Inheritance is a way of creating a new class for using details of an existing class without modifying it.\n",
    "The newly formed class is a derived class (or child class). Similarly, the existing class is a base class (or parent class).'''\n",
    "\n"
   ]
  }
 ],
 "metadata": {
  "kernelspec": {
   "display_name": "Python 3",
   "language": "python",
   "name": "python3"
  },
  "language_info": {
   "codemirror_mode": {
    "name": "ipython",
    "version": 3
   },
   "file_extension": ".py",
   "mimetype": "text/x-python",
   "name": "python",
   "nbconvert_exporter": "python",
   "pygments_lexer": "ipython3",
   "version": "3.8.5"
  }
 },
 "nbformat": 4,
 "nbformat_minor": 4
}
